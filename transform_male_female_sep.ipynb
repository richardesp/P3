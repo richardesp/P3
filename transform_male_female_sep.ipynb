{
 "cells": [
  {
   "cell_type": "code",
   "execution_count": 5,
   "metadata": {
    "collapsed": true
   },
   "outputs": [],
   "source": [
    "import pandas as pd"
   ]
  },
  {
   "cell_type": "code",
   "execution_count": 64,
   "outputs": [
    {
     "name": "stdout",
     "output_type": "stream",
     "text": [
      "<class 'pandas.core.frame.DataFrame'>\n",
      "RangeIndex: 525 entries, 0 to 524\n",
      "Data columns (total 28 columns):\n",
      " #   Column  Non-Null Count  Dtype\n",
      "---  ------  --------------  -----\n",
      " 0   a       525 non-null    int64\n",
      " 1   b       525 non-null    int64\n",
      " 2   c       525 non-null    int64\n",
      " 3   d       525 non-null    int64\n",
      " 4   e       525 non-null    int64\n",
      " 5   f       525 non-null    int64\n",
      " 6   g       525 non-null    int64\n",
      " 7   h       525 non-null    int64\n",
      " 8   i       525 non-null    int64\n",
      " 9   j       525 non-null    int64\n",
      " 10  k       525 non-null    int64\n",
      " 11  l       525 non-null    int64\n",
      " 12  m       525 non-null    int64\n",
      " 13  n       525 non-null    int64\n",
      " 14  o       525 non-null    int64\n",
      " 15  p       525 non-null    int64\n",
      " 16  q       525 non-null    int64\n",
      " 17  r       525 non-null    int64\n",
      " 18  s       525 non-null    int64\n",
      " 19  t       525 non-null    int64\n",
      " 20  u       525 non-null    int64\n",
      " 21  v       525 non-null    int64\n",
      " 22  w       525 non-null    int64\n",
      " 23  x       525 non-null    int64\n",
      " 24  i.1     525 non-null    int64\n",
      " 25  y       525 non-null    int64\n",
      " 26  z       525 non-null    int64\n",
      " 27  class   525 non-null    int64\n",
      "dtypes: int64(28)\n",
      "memory usage: 115.0 KB\n"
     ]
    }
   ],
   "source": [
    "df_train = pd.read_csv('./KaggleDataset/train.csv')\n",
    "df_val = pd.read_csv('./KaggleDataset/val.csv')\n",
    "df_test = pd.read_csv('./KaggleDataset/test.csv')\n",
    "\n",
    "df_val.info()"
   ],
   "metadata": {
    "collapsed": false
   }
  },
  {
   "cell_type": "code",
   "execution_count": 68,
   "outputs": [
    {
     "name": "stdout",
     "output_type": "stream",
     "text": [
      "Current sum of val a is: 0. And train is: 0\n",
      "Current sum of val b is: 149. And train is: 368\n",
      "Current sum of val c is: 108. And train is: 417\n",
      "Current sum of val d is: 134. And train is: 373\n",
      "Current sum of val e is: 134. And train is: 417\n",
      "Current sum of val f is: 176. And train is: 472\n",
      "Current sum of val g is: 274. And train is: 769\n",
      "Current sum of val h is: 222. And train is: 708\n",
      "Current sum of val i is: 29. And train is: 98\n",
      "Current sum of val j is: 166. And train is: 478\n",
      "Current sum of val k is: 189. And train is: 579\n",
      "Current sum of val l is: 119. And train is: 375\n",
      "Current sum of val m is: 188. And train is: 547\n",
      "Current sum of val n is: 137. And train is: 386\n",
      "Current sum of val o is: 0. And train is: 0\n",
      "Current sum of val p is: 63. And train is: 185\n",
      "Current sum of val q is: 415. And train is: 1223\n",
      "Current sum of val r is: 47. And train is: 167\n",
      "Current sum of val s is: 20. And train is: 62\n",
      "Current sum of val t is: 43. And train is: 136\n",
      "Current sum of val u is: 130. And train is: 438\n",
      "Current sum of val v is: 51. And train is: 127\n",
      "Current sum of val w is: 122. And train is: 361\n",
      "Current sum of val x is: 27. And train is: 67\n",
      "Current sum of val i.1 is: 75. And train is: 194\n",
      "Current sum of val y is: 57. And train is: 190\n",
      "Current sum of val z is: 42. And train is: 148\n",
      "Current sum of val class is: 181. And train is: 541\n",
      "===================\n",
      "Current sum of val a is: 0\n",
      "Current sum of val b is: 1417\n",
      "Current sum of val c is: 1425\n",
      "Current sum of val d is: 1407\n",
      "Current sum of val e is: 1451\n",
      "Current sum of val f is: 1607\n",
      "Current sum of val g is: 959\n",
      "Current sum of val h is: 1061\n",
      "Current sum of val i is: 1780\n",
      "Current sum of val j is: 1636\n",
      "Current sum of val k is: 817\n",
      "Current sum of val l is: 1497\n",
      "Current sum of val m is: 421\n",
      "Current sum of val n is: 1143\n",
      "Current sum of val o is: 0\n",
      "Current sum of val p is: 1714\n",
      "Current sum of val q is: 371\n",
      "Current sum of val r is: 1715\n",
      "Current sum of val s is: 1617\n",
      "Current sum of val t is: 1772\n",
      "Current sum of val u is: 1579\n",
      "Current sum of val v is: 1755\n",
      "Current sum of val w is: 1708\n",
      "Current sum of val x is: 1685\n",
      "Current sum of val i.1 is: 1480\n",
      "Current sum of val y is: 1704\n",
      "Current sum of val z is: 300\n"
     ]
    }
   ],
   "source": [
    "for column_headers in df_val.columns:\n",
    "    current_df_1 = df_val[df_val[column_headers] == 1]\n",
    "    current_df_2 = df_train[df_train[column_headers] == 1]\n",
    "    print(f\"Current sum of val {column_headers} is: {len(current_df_1)}. And train is: {len(current_df_2)}\")\n",
    "\n",
    "# R value\n",
    "print(\"===================\")\n",
    "for column_headers in df_test.columns:\n",
    "    current_df_1 = df_test[df_test[column_headers] == 0]\n",
    "    print(f\"Current sum of val {column_headers} is: {len(current_df_1)}\")\n",
    "\n",
    "# Z ATRIBUTE\n",
    "\n",
    "male_train_df = df_train[df_train['z'] == 0]\n",
    "female_train_df = df_train[df_train['z'] == 1]\n",
    "\n",
    "male_val_df = df_val[df_val['z'] == 0]\n",
    "female_val_df = df_val[df_val['z'] == 1]\n",
    "\n",
    "male_train_df.to_csv('./KaggleDataset/train_male.csv')\n",
    "female_train_df.to_csv('./KaggleDataset/train_female.csv')\n",
    "\n",
    "male_val_df.to_csv('./KaggleDataset/val_male.csv')\n",
    "female_val_df.to_csv('./KaggleDataset/val_female.csv')"
   ],
   "metadata": {
    "collapsed": false
   }
  },
  {
   "cell_type": "code",
   "execution_count": 73,
   "outputs": [
    {
     "data": {
      "text/plain": "    a  b  c  d  e  f  g  h  i  j  ...  s  t  u  v  w  x  i.1  y  z  class\n1  32  0  0  0  1  0  1  0  0  0  ...  0  1  0  0  0  0    0  0  0      0\n2  21  0  0  0  1  0  0  1  0  0  ...  0  0  1  0  0  0    0  0  0      0\n3  28  1  0  0  0  1  1  0  0  0  ...  0  0  1  0  0  0    0  0  0      0\n5  21  0  0  1  0  0  1  0  0  1  ...  0  0  1  0  0  0    0  0  0      0\n6  25  0  0  0  1  0  0  1  0  0  ...  0  0  0  0  0  0    1  0  0      0\n\n[5 rows x 28 columns]",
      "text/html": "<div>\n<style scoped>\n    .dataframe tbody tr th:only-of-type {\n        vertical-align: middle;\n    }\n\n    .dataframe tbody tr th {\n        vertical-align: top;\n    }\n\n    .dataframe thead th {\n        text-align: right;\n    }\n</style>\n<table border=\"1\" class=\"dataframe\">\n  <thead>\n    <tr style=\"text-align: right;\">\n      <th></th>\n      <th>a</th>\n      <th>b</th>\n      <th>c</th>\n      <th>d</th>\n      <th>e</th>\n      <th>f</th>\n      <th>g</th>\n      <th>h</th>\n      <th>i</th>\n      <th>j</th>\n      <th>...</th>\n      <th>s</th>\n      <th>t</th>\n      <th>u</th>\n      <th>v</th>\n      <th>w</th>\n      <th>x</th>\n      <th>i.1</th>\n      <th>y</th>\n      <th>z</th>\n      <th>class</th>\n    </tr>\n  </thead>\n  <tbody>\n    <tr>\n      <th>1</th>\n      <td>32</td>\n      <td>0</td>\n      <td>0</td>\n      <td>0</td>\n      <td>1</td>\n      <td>0</td>\n      <td>1</td>\n      <td>0</td>\n      <td>0</td>\n      <td>0</td>\n      <td>...</td>\n      <td>0</td>\n      <td>1</td>\n      <td>0</td>\n      <td>0</td>\n      <td>0</td>\n      <td>0</td>\n      <td>0</td>\n      <td>0</td>\n      <td>0</td>\n      <td>0</td>\n    </tr>\n    <tr>\n      <th>2</th>\n      <td>21</td>\n      <td>0</td>\n      <td>0</td>\n      <td>0</td>\n      <td>1</td>\n      <td>0</td>\n      <td>0</td>\n      <td>1</td>\n      <td>0</td>\n      <td>0</td>\n      <td>...</td>\n      <td>0</td>\n      <td>0</td>\n      <td>1</td>\n      <td>0</td>\n      <td>0</td>\n      <td>0</td>\n      <td>0</td>\n      <td>0</td>\n      <td>0</td>\n      <td>0</td>\n    </tr>\n    <tr>\n      <th>3</th>\n      <td>28</td>\n      <td>1</td>\n      <td>0</td>\n      <td>0</td>\n      <td>0</td>\n      <td>1</td>\n      <td>1</td>\n      <td>0</td>\n      <td>0</td>\n      <td>0</td>\n      <td>...</td>\n      <td>0</td>\n      <td>0</td>\n      <td>1</td>\n      <td>0</td>\n      <td>0</td>\n      <td>0</td>\n      <td>0</td>\n      <td>0</td>\n      <td>0</td>\n      <td>0</td>\n    </tr>\n    <tr>\n      <th>5</th>\n      <td>21</td>\n      <td>0</td>\n      <td>0</td>\n      <td>1</td>\n      <td>0</td>\n      <td>0</td>\n      <td>1</td>\n      <td>0</td>\n      <td>0</td>\n      <td>1</td>\n      <td>...</td>\n      <td>0</td>\n      <td>0</td>\n      <td>1</td>\n      <td>0</td>\n      <td>0</td>\n      <td>0</td>\n      <td>0</td>\n      <td>0</td>\n      <td>0</td>\n      <td>0</td>\n    </tr>\n    <tr>\n      <th>6</th>\n      <td>25</td>\n      <td>0</td>\n      <td>0</td>\n      <td>0</td>\n      <td>1</td>\n      <td>0</td>\n      <td>0</td>\n      <td>1</td>\n      <td>0</td>\n      <td>0</td>\n      <td>...</td>\n      <td>0</td>\n      <td>0</td>\n      <td>0</td>\n      <td>0</td>\n      <td>0</td>\n      <td>0</td>\n      <td>1</td>\n      <td>0</td>\n      <td>0</td>\n      <td>0</td>\n    </tr>\n  </tbody>\n</table>\n<p>5 rows × 28 columns</p>\n</div>"
     },
     "execution_count": 73,
     "metadata": {},
     "output_type": "execute_result"
    }
   ],
   "source": [
    "male_train_df = df_train[df_train['z'] == 0]\n",
    "female_train_df = df_train[df_train['z'] == 1]\n",
    "\n",
    "male_val_df = df_val[df_val['z'] == 0]\n",
    "female_val_df = df_val[df_val['z'] == 1]\n",
    "\n",
    "male_train_df.to_csv('train_male.csv', index=0)\n",
    "female_train_df.to_csv('train_female.csv', index=0)\n",
    "\n",
    "male_val_df.to_csv('val_male.csv', index=0)\n",
    "female_val_df.to_csv('val_female.csv', index=0)"
   ],
   "metadata": {
    "collapsed": false
   }
  }
 ],
 "metadata": {
  "kernelspec": {
   "display_name": "Python 3",
   "language": "python",
   "name": "python3"
  },
  "language_info": {
   "codemirror_mode": {
    "name": "ipython",
    "version": 2
   },
   "file_extension": ".py",
   "mimetype": "text/x-python",
   "name": "python",
   "nbconvert_exporter": "python",
   "pygments_lexer": "ipython2",
   "version": "2.7.6"
  }
 },
 "nbformat": 4,
 "nbformat_minor": 0
}
